{
 "cells": [
  {
   "cell_type": "code",
   "execution_count": 1,
   "metadata": {},
   "outputs": [],
   "source": [
    "from splinter import Browser\n",
    "from bs4 import BeautifulSoup\n",
    "import nltk\n",
    "import matplotlib.pyplot as plt\n",
    "import os\n",
    "import pymongo\n",
    "import pandas as pd\n",
    "import re\n",
    "import seaborn as sns\n",
    "import time"
   ]
  },
  {
   "cell_type": "code",
   "execution_count": 2,
   "metadata": {},
   "outputs": [],
   "source": [
    "# use pymongo to store all info from LinkedIN\n",
    "conn = 'mongodb://localhost:27017'\n",
    "client = pymongo.MongoClient(conn)\n",
    "db = client.linkedin_db"
   ]
  },
  {
   "cell_type": "code",
   "execution_count": 12,
   "metadata": {},
   "outputs": [],
   "source": [
    "# chrome_driver_path = os.path.abspath(r\"C:\\Users\\haneu\\Desktop\\Data Analytics\\6_mongo_webScrape\\chromedriver.exe\")\n",
    "executable_path = {'executable_path': \"chromedriver.exe\"}\n",
    "browser = Browser('chrome', **executable_path, headless=False)\n",
    "url = \"https://www.glassdoor.ca/index.htm\"\n",
    "browser.visit(url)"
   ]
  },
  {
   "cell_type": "code",
   "execution_count": 13,
   "metadata": {},
   "outputs": [
    {
     "name": "stdout",
     "output_type": "stream",
     "text": [
      "What job are you looking for?\n",
      "data analyst\n",
      "Where do you want to find your job?\n",
      "korea\n"
     ]
    }
   ],
   "source": [
    "print(\"What job are you looking for?\")\n",
    "job = input()\n",
    "job_type = browser.find_by_id(\"KeywordSearch\")\n",
    "job_type.fill(job)\n",
    "\n",
    "print(\"Where do you want to find your job?\")\n",
    "job_location = input()\n",
    "location = browser.find_by_id(\"LocationSearch\")\n",
    "location.fill(job_location)\n",
    "\n",
    "# Clicking button\n",
    "browser.find_by_id(\"HeroSearchButton\").click()"
   ]
  },
  {
   "cell_type": "code",
   "execution_count": 14,
   "metadata": {},
   "outputs": [],
   "source": [
    "# list to store scraped data\n",
    "company = []\n",
    "all_location = []\n",
    "job_desc = []\n",
    "position = []\n",
    "\n",
    "def scrape_current_page():\n",
    "\n",
    "    # Getting html of first page\n",
    "    html = browser.html\n",
    "    soup = BeautifulSoup(html, \"html.parser\")\n",
    "    jobs = soup.find_all(\"li\", class_=\"jl\")\n",
    "\n",
    "    for job in jobs:\n",
    "        # Store all info into a list         \n",
    "        position.append(job.find(\"div\", class_=\"jobTitle\").a.text)\n",
    "        \n",
    "        # Pop up will show up as soon as we start scarping.\n",
    "        # so wait few seconds and exit pop-up\n",
    "        print(\"count down\")\n",
    "        time.sleep(5)\n",
    "        \n",
    "\n",
    "        exit_button = soup.find(\"div\", class_=\"ModalStyle__xBtn___34qya\")\n",
    "        print(f'exit_button{exit_button}')\n",
    "        # If there was a pop-up click close button.\n",
    "        if exit_button:\n",
    "            browser.find_by_css(\".ModalStyle__xBtn___34qya\").first.click()\n",
    "        \n",
    "        \n",
    "        # ex: Tommy - Singapore\n",
    "        comp_loc = job.find(\"div\", class_=\"empLoc\").div.text\n",
    "        comp, loc = comp_loc.split(\"–\")\n",
    "        # print(comp)\n",
    "        company.append(comp.strip())\n",
    "        all_location.append(loc.strip())\n",
    "                \n",
    "        # ------------- Scrape Job descriptions within a page -----------\n",
    "        # job description is in another html, therefore retrieve it once again after\n",
    "        # clicking.\n",
    "        browser.click_link_by_href(job.find(\"a\", class_=\"jobLink\")[\"href\"])\n",
    "        html = browser.html\n",
    "        soup = BeautifulSoup(html, \"html.parser\")\n",
    "        job_desc.append(soup.find(\"div\", class_=\"desc\").text)\n",
    "\n",
    "        time.sleep(1) # Since splinter scrapes too fast and skips some job description.\n",
    "    return None\n",
    "\n",
    "def scrape_all():\n",
    "    # grab new html, grab page control elements\n",
    "    html = browser.html\n",
    "    soup = BeautifulSoup(html, \"html.parser\")\n",
    "\n",
    "    # Will throw an error if there is no pagining control => one page => goto except statement\n",
    "    try:\n",
    "        result = soup.find(\"div\", class_=\"pagingControls\").ul\n",
    "        pages = result.find_all(\"li\")\n",
    "\n",
    "        for page in pages:\n",
    "            # scrape each page\n",
    "            scrape_current_page()\n",
    "            # run if <a> exists since un-clickable do not have <a> skipping < and pg1\n",
    "            if page.a:\n",
    "                # within <a> tag click except next button         \n",
    "                if not page.find(\"li\", class_=\"Next\"):\n",
    "                    try:\n",
    "                        # Click to goto next page.\n",
    "                        browser.click_link_by_href(page.a['href'])\n",
    "                    except:\n",
    "                        print(\"This is the last page\")\n",
    "                        break\n",
    "    # only one page\n",
    "    except:\n",
    "        scrape_current_page()\n",
    "\n",
    "    # No need to return since we appened all data into list\n",
    "    return None"
   ]
  },
  {
   "cell_type": "code",
   "execution_count": 15,
   "metadata": {},
   "outputs": [
    {
     "name": "stdout",
     "output_type": "stream",
     "text": [
      "count down\n",
      "exit_buttonNone\n",
      "count down\n",
      "exit_button<div class=\"ModalStyle__xBtn___34qya\">✕</div>\n",
      "count down\n",
      "exit_buttonNone\n",
      "count down\n",
      "exit_buttonNone\n",
      "count down\n",
      "exit_buttonNone\n",
      "count down\n",
      "exit_buttonNone\n",
      "count down\n",
      "exit_buttonNone\n",
      "count down\n",
      "exit_buttonNone\n",
      "count down\n",
      "exit_buttonNone\n",
      "count down\n",
      "exit_buttonNone\n"
     ]
    }
   ],
   "source": [
    "scrape_all()"
   ]
  },
  {
   "cell_type": "code",
   "execution_count": 18,
   "metadata": {},
   "outputs": [
    {
     "data": {
      "text/plain": [
       "[' Data Analytics & Visualization Analyst\\n\\nADW, oracle Analytic cloud\\n\\n Summary\\n\\nDesigns analytics for strategic use across the line of business. Design/Create reports and analytics that provide key business insights used for data driven decision making.\\n\\nPossesses a strong business insight coupled with technical ability to know how to develop, explore, analyze, and present data and solutions to a line of business audience.\\n\\n Responsibility\\n\\n Need a proactive, consultative approach to analytics. Asks the right questions of the pain point and makes proactive recommendations aligned to overall business strategy\\n Analyze data from multiple data sources and design and create reports\\n Communicates and presents analysis and insights to business customers and executive management.\\n Evaluates business needs and improves efficiencies and capabilities through the use of technology.\\n Need train personnel in scope and functionality of processes, systems, and solutions.\\n\\n Job Code :  IC2 ~ IC3\\n\\n Related Experience Period:  3 ~ 6 yrs.\\n\\n Knowledge, Skill & Abilities\\n\\n Basic understanding of fundamental data concepts (table joins, data deduplication, Boolean logic, if/then logic and machine learning\\n\\n\\n Has experiences with analytic programming, Data Management, SQL, data cleansing(Oracle, SAS and etc)\\n Has experiences with BI Tools(MSTR, Tableau, Oracle BI Tools and etc)\\n Has DW Project experiences\\n Ability to relate technical concepts and data analysis to a business audience\\n Strong communication skills\\n\\n Education\\n\\n통계학과 또는 관련 학과 출신\\n경영학과 , 마케팅 , 산업 공학과 출신\\n\\nDetailed Description and Job Requirements:\\n\\nProvides direction and specialist knowledge in applying the technology/application to client business. Facilitation of customer product/application understanding through presentations demonstrations and benchmarks; provision of support throughout the sell.\\n\\nAs a Staff Sales Consultant you will be responsible for providing presales technical / functional support to prospective clients and customers while ensuring customer satisfaction. Develop and deliver high quality standard Oracle presentations and demonstrations. Present and articulate Oracle product*s strengths, features, benefits, and competitive advantages. Design, validate, and present Oracle software solutions to include advanced product concepts, future direction, and 3rd party complimentary products.\\n\\nDuties and tasks are standard with some variation. Completes own role largely independently within defined policies and procedures.3 - 5 years business experience preferred; vendor experience also preferred. 3 years relevant computer applications or database/tools preferred. Demonstrated proficiency in one multi-user operating system. Knowledge of system and application design preferred. Strong written, verbal, and interpersonal skills. Ability to travel as needed. BA/BS degree or equivalent preferred.',\n",
       " ' Data Analytics & Visualization Analyst\\n\\nADW, oracle Analytic cloud\\n\\n Summary\\n\\nDesigns analytics for strategic use across the line of business. Design/Create reports and analytics that provide key business insights used for data driven decision making.\\n\\nPossesses a strong business insight coupled with technical ability to know how to develop, explore, analyze, and present data and solutions to a line of business audience.\\n\\n Responsibility\\n\\n Need a proactive, consultative approach to analytics. Asks the right questions of the pain point and makes proactive recommendations aligned to overall business strategy\\n Analyze data from multiple data sources and design and create reports\\n Communicates and presents analysis and insights to business customers and executive management.\\n Evaluates business needs and improves efficiencies and capabilities through the use of technology.\\n Need train personnel in scope and functionality of processes, systems, and solutions.\\n\\n Job Code :  IC2 ~ IC3\\n\\n Related Experience Period:  3 ~ 6 yrs.\\n\\n Knowledge, Skill & Abilities\\n\\n Basic understanding of fundamental data concepts (table joins, data deduplication, Boolean logic, if/then logic and machine learning\\n\\n\\n Has experiences with analytic programming, Data Management, SQL, data cleansing(Oracle, SAS and etc)\\n Has experiences with BI Tools(MSTR, Tableau, Oracle BI Tools and etc)\\n Has DW Project experiences\\n Ability to relate technical concepts and data analysis to a business audience\\n Strong communication skills\\n\\n Education\\n\\n통계학과 또는 관련 학과 출신\\n경영학과 , 마케팅 , 산업 공학과 출신\\n\\nDetailed Description and Job Requirements:\\n\\nProvides direction and specialist knowledge in applying the technology/application to client business. Facilitation of customer product/application understanding through presentations demonstrations and benchmarks; provision of support throughout the sell.\\n\\nAs a Staff Sales Consultant you will be responsible for providing presales technical / functional support to prospective clients and customers while ensuring customer satisfaction. Develop and deliver high quality standard Oracle presentations and demonstrations. Present and articulate Oracle product*s strengths, features, benefits, and competitive advantages. Design, validate, and present Oracle software solutions to include advanced product concepts, future direction, and 3rd party complimentary products.\\n\\nDuties and tasks are standard with some variation. Completes own role largely independently within defined policies and procedures.3 - 5 years business experience preferred; vendor experience also preferred. 3 years relevant computer applications or database/tools preferred. Demonstrated proficiency in one multi-user operating system. Knowledge of system and application design preferred. Strong written, verbal, and interpersonal skills. Ability to travel as needed. BA/BS degree or equivalent preferred.',\n",
       " 'Job Description:\\n\\nAbout Bank of America Merrill Lynch:\\n\\nOur purpose as a firm is to make financial lives better, through the power of every connection. Across the world, we partner with leading corporate and institutional investors through our offices in more than 40 countries. In the U.S alone, we serve almost all Fortune 500 companies and approximately 59 million consumers and small-business customers. We provide a full suite of financial products and services, from banking and investments to asset and risk management. We cover a broad range of asset classes, making us a global leader in corporate and investment banking, sales and trading.\\n\\nConnecting Asia Pacific to the World\\n\\nOur Asia Pacific team is spread across 23 offices in 12 markets. We are focused on connecting Asia to the world and the world to Asia, using our global expertise to ensure success is shared between us, our clients and our communities. Our regional footprint covers 12 currencies, more than a dozen languages and five time zones, placing us firmly among the region’s leading financial services companies.\\n\\nBank of America Merrill Lynch is committed to attracting, recruiting and retaining top diverse talent from across the globe. Our diversity and inclusion mission is to actively promote an inclusive work environment where all employees have the opportunity to achieve personal success and contribute to the growth of our business. Each of our global Employee Networks bring together employees, create dialogue and awareness in support of our Diversity and Inclusion.\\n\\nBank of America Merrill Lynch is an equal opportunities employer.\\n\\nPosition Description\\n\\nAs part of the larger Global Technology & Operations (GT&O) organization in Asia, the Non-Financial Regulatory Reporting team (APAC GTO NFRR) governs and manages operational risk (people, process, systems and external event risks) and controls across various Technology, Banking and Markets operations units in Asia Pacific.\\n\\nKey Responsibilities\\n\\nThe Non-Financial Regulatory Reporting (NFRR) Data Analyst will be a member of the APAC GTO NFRR team. Responsibilities include:Partner with front line units to manage and execute quality assurance (QA) test of their regulatory reports and controls environment utilizing NFRR specific processes, tools and templatesDocumenting the business logic, and designing test plans for regulatory reportsPartnering with India testing team to resolve issues arising from QA testing carried out by themWorking with report owners to create action plans to address gaps in a timely wayEnsuring that the regional governance model operates as designed including regional governance meetings with key stakeholders, the provision of metrics and reporting, follow up on issuesDeveloping and producing metrics and analytics on regulatory reporting issues and testing resultsProvide Regulatory Reporting Risk subject matter expertise for Technology & Operations areasExercise judgment and influence business leaders and peers to Firm / External requirements and operational risk programs, balancing business strategy with appropriate risk/reward balance and adequate controls and remediation.Develop and maintain relationships with Business, Operations, Technology, Audit, Compliance and other Control groups and Stakeholders\\n\\nKey Requirements\\n\\nExperience of regulatory reporting processes – ideally involving testing or quality assurance of regulatory reportsRelevant experience in banking, operations, business controls or risk management, internal audit or compliance testingUnderstanding of Banking & Markets products, services, and platformsExperience of analyzing and documenting business processes, and developing solutionsAttention to detailProven relationship management/engagement skills and ability to communicate effectively with different audiences; executive presenceStrong MS Office skills, particularly Excel, PowerPoint, and SharePointStrong communication skills and ability to build relationships at all levelsAbility to work within a team environment and to stick to deadlinesCritical thinking/analytical skills, challenge mindset\\n',\n",
       " 'Responsibilities:\\n\\n\\n\\nPartner with business stakeholders to define business questions to model and solve Work closely with data engineers to ensure ready access to \"clean\" data Perform classification, regression, time-series, and causal analysis on datasets Design, build, and deliver data models and/or data automation to transform raw data into actionable information \\n\\n\\nMinimum Qualifications:\\n\\n\\n\\n2+ years of experience in data analysis working with large data sets MUST HAVE strong SQL skills and Korean language fluency Excel, and fundamental understanding of statistics\\n\\nPreferred Qualifications:\\n\\n\\n\\nR (or Python) for data analysis English language proficiency\\n\\nPosition Type/Expected Hours of Work:This is a full-time position (Monday through Friday, 10:00 a.m. to 7 p.m)\\n\\nHiring process:Documents screening > 1st round Interview > 2nd round interview> Job offer\\n\\nRecruitment Period: On demand',\n",
       " \"\\n\\n\\n\\n\\nPosition Description\\n\\n\\n\\n\\n\\n\\n\\n\\nData Analyst\\n\\n\\nLocation\\n\\n\\n\\nSeoul, South Korea\\n\\n\\nJob Code\\n\\n357\\n\\n\\n# of openings\\n\\n1\\n\\n\\n\\nApply Now\\nOverview:\\n\\nBased in Northern, VA, Axiologic Solutions LLC has opportunities for you to become part of our high-quality team that delivers innovative solutions to key Federal clients.\\n\\nPosition is contingent based on awarded contract.\\n\\nResponsibilities: Data Analysts use technology to mine complex, voluminous, and different varieties of data from various sources and platforms in order to collect, analyze, and compile data to meet customer needs. Data Analysts will perform the following duties:\\n\\n\\nIdentify new sources of data and methods to improve data collection, analysis, and reporting\\nCollect customer requirements\\nDetermine technical issues\\nDesign algorithms and data manipulation capabilities using R, Python, C++, JavaScript, Go, and other known programming languages.\\nBuild data solutions, tools, and capabilities to enable self-service frameworks for data consumers to monitor and report on data.\\nImprove the quality of data use and usability by driving an understanding and adherence to the principles of data quality management including metadata, lineage, and business definitions\\nWork collaboratively with Intelligence and Data analysis teams to produce qualitative and quantitative data that support Intelligence products.\\n\\nQualifications:\\n\\nPossess a minimum of a bachelor's degree in a computer science discipline.\\nExperience providing services similar in required tasks, scope, and complexity.\\n\\nEqual Opportunity Employer–minorities/females/veterans/individuals with disabilities/sexual orientation/gender identity.\\n\\n\\nEqual Opportunity Employer–minorities/females/veterans/individuals with disabilities/sexual orientation/gender identity.\\n\\nApplicants with a physical or mental disability, who require a reasonable accommodation for any part of the application or hiring process, may e-mail their request to Jennifer.chavira@axiologicsolutions.com, call 571-758-3780, or visit our office at 8280 Willow Oaks Corp. Dr. Suite 450, Fairfax Virginia for assistance. Determinations on request for reasonable accommodation will be made on a case-by-case basis.\\n\\n\\n\\n\",\n",
       " '1. ABS - Support of\\n\\nAsset-Backed Securities (ABS) preparation project, using SQL\\n\\n\\nResponsible for data quality\\n\\n management\\nResponsible for historical data\\n\\n analysis for Rating\\n\\n Agencies and investors.\\nDraft technical Business Requirements\\n\\n Documentation related to system changes and review technical specification\\n\\n documents from vendors\\nDevelop test scenarios for system\\n\\n changes with each business team to ensure changes and maintain the\\n\\n integrity of the systems, reports and processes\\nCooperate with IT to setup ABS\\n\\n management system (ABS Suite)\\nClose alignment with each business\\n\\n team (Contract Operations,\\n\\n Collections, Accounting, Treasury, etc.) , Region Office and HQ during the\\n\\n project rollout\\nStrong knowledge of project management\\n\\n and associated implementation experience\\n\\n2. ABS (After issuance) - Responsible for the monthly timely execution and\\n\\naccuracy of the\\n\\nABS investor reporting\\n\\n\\nResponsible for the timely preparation and accuracy of ABS\\n\\n regulatory reporting\\nPerformance and trend analysis of the securitized assets\\nAlignment with relevant internal parties to initiate other ABS\\n\\n processes that are based on the results of the investor reporting\\n\\n (Accounting, Controlling, Treasury MBFSK & HQ)\\nResponsible for the monthly preparation and accuracy of ABS\\n\\n historical risk data with finance closing\\nSupport\\n\\n quantitative and qualitative Portfolio Analysis and ABS historical data\\n\\n trend analysis\\nPortfolio closing and report\\n\\n preparation with ad-hoc risk analysis for business strategy by combining\\n\\n database querying expertise with an in-depth knowledge of the systems to\\n\\n provide analytical results\\n\\nEducation\\n\\nUniversity degree in Computer Science/Information Technology/Finance/Statistics or equivalent\\n\\nExperience\\n\\nSolid cross-functional operative experience covering ideally IT and Finance functions in auto finance industry, Banking or other related finance industry for at least 3-5 years\\nABS investor report experience preferred\\n\\nSpecific knowledge\\n\\nAble to utilize SQL\\nKnowledge of Financial Analysis or Risk Management preferred\\nQuantitative and qualitative analytical skills with Excellent MS Office Skills (Excel and PowerPoint)\\nIdeally ETL ((extract, transform, load) related coding skills and experiences with SQL-based database systems (MS Access, SQL, etc.)\\nExperiences in test engineering\\nInterpersonal and communication skill\\nGood English skill both in writing and speaking\\nStrong commitment to certain deadlines and Attention to detail, accurate and analytical skills\\n',\n",
       " '1. ABS - Support of\\n\\nAsset-Backed Securities (ABS) preparation project, using SQL\\n\\n\\nResponsible for data quality\\n\\n management\\nResponsible for historical data\\n\\n analysis for Rating\\n\\n Agencies and investors.\\nDraft technical Business Requirements\\n\\n Documentation related to system changes and review technical specification\\n\\n documents from vendors\\nDevelop test scenarios for system\\n\\n changes with each business team to ensure changes and maintain the\\n\\n integrity of the systems, reports and processes\\nCooperate with IT to setup ABS\\n\\n management system (ABS Suite)\\nClose alignment with each business\\n\\n team (Contract Operations,\\n\\n Collections, Accounting, Treasury, etc.) , Region Office and HQ during the\\n\\n project rollout\\nStrong knowledge of project management\\n\\n and associated implementation experience\\n\\n2. ABS (After issuance) - Responsible for the monthly timely execution and\\n\\naccuracy of the\\n\\nABS investor reporting\\n\\n\\nResponsible for the timely preparation and accuracy of ABS\\n\\n regulatory reporting\\nPerformance and trend analysis of the securitized assets\\nAlignment with relevant internal parties to initiate other ABS\\n\\n processes that are based on the results of the investor reporting\\n\\n (Accounting, Controlling, Treasury MBFSK & HQ)\\nResponsible for the monthly preparation and accuracy of ABS\\n\\n historical risk data with finance closing\\nSupport\\n\\n quantitative and qualitative Portfolio Analysis and ABS historical data\\n\\n trend analysis\\nPortfolio closing and report\\n\\n preparation with ad-hoc risk analysis for business strategy by combining\\n\\n database querying expertise with an in-depth knowledge of the systems to\\n\\n provide analytical results\\n\\nEducation\\n\\nUniversity degree in Computer Science/Information Technology/Finance/Statistics or equivalent\\n\\nExperience\\n\\nSolid cross-functional operative experience covering ideally IT and Finance functions in auto finance industry, Banking or other related finance industry for at least 3-5 years\\nABS investor report experience preferred\\n\\nSpecific knowledge\\n\\nAble to utilize SQL\\nKnowledge of Financial Analysis or Risk Management preferred\\nQuantitative and qualitative analytical skills with Excellent MS Office Skills (Excel and PowerPoint)\\nIdeally ETL ((extract, transform, load) related coding skills and experiences with SQL-based database systems (MS Access, SQL, etc.)\\nExperiences in test engineering\\nInterpersonal and communication skill\\nGood English skill both in writing and speaking\\nStrong commitment to certain deadlines and Attention to detail, accurate and analytical skills\\n',\n",
       " \"Join us on our exciting journey! IQVIA™ is The Human Data Science Company™, focused on using data and science to help healthcare clients find better solutions for their patients. Formed through the merger of IMS Health and Quintiles, IQVIA offers a broad range of solutions that harness advances in healthcare information, technology, analytics and human ingenuity to drive healthcare forward.Principal Accountabilities:As a Data Analytics & Insights Associate Consultant with balanced analytics, technology, and consulting experience, you will provide data analytics expertise to IQVIA R&D Solutions' organizations and related external organizations to drive digital innovations. Embedded in the R&D Solutions’ key business processes, you will work with business stakeholders to identify and prioritize business problems to be addressed with data analytics. You will support design, development and delivery of data analytics solutions to address identified business problems, working with other ACOE team members, e.g. GSM (Global Solutions Manager) as needed. This is a hands-on role and the candidate must have the ability to interpret requests and provide insights to support the overall business needs.Specific activities include:• Embedded in the R&D Solutions’ key business processes, identify and prioritize business problems to be addressed with data analytics;• Support business partnership and empower data-driven decisions by working with structured and unstructured data sets, building analytics solutions and advising business stakeholders on data solutions development;• Contribute to data innovation task and the development and delivery of high value and differentiating analytic insights to enhance trial strategy and execution;• Leverage large volumes of complex internal and external data using a variety of technologies, including tools like Python, R, SQL, Spark, HDFS;• Integrate custom analytics (e.g. clustering, predictive, prescriptive) to support data-driven decision making using advanced computing tools;• Translate and communicate results, recommendations and opportunities to improve data solutions to internal and external leadership with easily consumable reports and presentations;• Stay updated on IQVIA offerings and newly acquired assets for developing R&D Solutions opportunities and identify new areas of growth, outside the scope of existing solutions, e.g. data exploration, data acquisition, visualization;• Proactively continue to strengthen subject matter expertise within business partnership;• Contribute to analytical methodology research, project execution, streamlining processes and efficiencies.Qualifications and capabilities:Our ideal candidate will have:• A Bachelor’s or Master’s degree in Statistics, Economics, Econometrics, and Computer Science or a related field – alternatively, a relevant combination of education, training and work experience;• At least two years of relevant quantitative experience analyzing data;• Experience working with large volumes of complex health / claims data;• Experience with R or Python (Python preferable);• Experience with Spark, SparkR, and PySpark within distributed environment is preferred;• Experience with SQL and/or Hive skills;• Ability to bridge the technical expertise of data engineers and data scientists with the operational expertise of business functions and business managers;• Ability to understand local / regional health sector and data;• Strong communication and presentation skills;• Local language skills, to an advanced level (spoken and written), with complete fluency in English.Desirable skills:• A good understanding of data modelling, visualization, e.g. Spotfire, Tableau, Power BI• A good understanding of data science, ML / AI with a sound foundation in statistics We know that meaningful results require not only the right approach but also the right people. Regardless of your role, we invite you to reimagine healthcare with us. You will have the opportunity to play an important part in helping our clients drive healthcare forward and ultimately improve human health outcomes. Whatever your career goals, we are here to ensure you get there! We invite you to join IQVIA™ Apply Now!\",\n",
       " \"\\nJob DescriptionYou are the type of person who has a passion for taking raw numbers and turning them into actionable insights for the world's business and financial decision makers. Your friends all know you as the one who has a true interest in technology, and who likes nothing more than spotting a creative way to improve a process. You have a natural eye for detail, and an interest in the financial markets. You are independent and determined, but thrive as part of a team. You enjoy dealing with people, and you're that person who knows what customer service really means.Our Team:Bloomberg runs on data, and our Global Data department is responsible for acquiring it and supplying it to our clients. Our Market Data Analysts collect, process and publish the data which is the backbone of our iconic Bloomberg Terminalthe data which ultimately moves the financial markets. They apply problem-solving skills to identify innovative workflow efficiencies, and they implement technology solutions to enhance our systems, products and processesand all this while providing platinum customer support to our clients.The Role:Our Data Analysts are primarily responsible for providing timely, accurate, and comprehensive data to our clients. They use their technical, business, and communication skills to improve products and processes in Global Data, which makes the role challenging and entrepreneurial. Junior Data Analysts will leverage their growing skills and experience over time to become Data Analysts that plays a key role innovation across our business and subsequently have the opportunity to become a Senior Data Analyst/ Data Scientist.We'll trust you to:\\n\\n\\n\\n Utilize a variety of software solutions to extract and rationalize data to Bloomberg taxonomies\\n Perform quality control to ensure data accuracy by comparing Bloomberg data to source documentation\\n Provide customer support for users of Bloomberg products such as the Professional Service, News, Enterprise Solutions by resolving inquiries in a timely manner\\n Procure content to support best-in-class coverage of the data set\\n Implement business rules for programmatic data validation by codifying market conventions and/or data relationships\\n Contribute to continuous improvement by generating ideas to improve our data products and/or associated processes and building prototypes to validate and illustrate requirements\\n Participate in ad hoc projects to optimize processes and/or improve the quality of the data set\\n Utilize statistics and data visualization skills to report on results of on-going operations and projects, as required\\n\\nYou'll need to have:\\n\\n\\n\\n A bachelor's degree, preferably with combined studies in Information Systems and Finance, or related business and STEM field\\n Demonstrated project or work experience using one or more programming/ scripting languages (e.g. Python, R, JavaScript, Java)\\n Ability to recognize opportunities for process improvement, as well as devise and implement innovative solutions\\n Excellent written and verbal communication skills\\n Basic understanding of statistics and data modeling\\n Strong attention to detail and high degree of demonstrated decision-making and problem solving skills\\n Eagerness to learn and collaborate with others\\n Customer focused mindset\\n Ability to work under pressure and in a frequently changing environment\\n\\nWe'd love to see:\\n\\n\\n\\n Business fluency in English and Korean\\n Exposure to Bloomberg products such as the Professional Service\\n Passion for technology and finance\\n Proficiency with one or more programming/scripting languages (e.g. Python, R, JavaScript, Java) as well as SQL\\n Familiarity with software engineering best practices\\n Experience using data visualization tools such as Tableau or QlikSense\\n Openness to change and willingness to work through challenges\\n A presence in virtual development communities such as GitHub, Stack Overflow and HackerRank\\n Familiarity with statistical and machine learning methods\\n Desire to innovate and lead change\\n\\n\\nIf this sounds like you:Apply! If we think you're a good match we'll get in touch to let you know the next steps.\\n\\nWe are an equal opportunity employer and value diversity at our company. We do not discriminate on the basis of race, religion, color, national origin, gender, sexual orientation, age, marital status, veteran status, or disability status.\\n\\nBloomberg is a disability inclusive employer. Please let us know if you require any adjustments to be made for the recruitment process by emailing access2@bloomberg.net.\\n\\n\",\n",
       " \"\\nJob DescriptionYou are the type of person who has a passion for taking raw numbers and turning them into actionable insights for the world's business and financial decision makers. Your friends all know you as the one who has a true interest in technology, and who likes nothing more than spotting a creative way to improve a process. You have a natural eye for detail, and an interest in the financial markets. You are independent and determined, but thrive as part of a team. You enjoy dealing with people, and you're that person who knows what customer service really means.Our Team:Bloomberg runs on data, and our Global Data department is responsible for acquiring it and supplying it to our clients. Our Market Data Analysts collect, process and publish the data which is the backbone of our iconic Bloomberg Terminalthe data which ultimately moves the financial markets. They apply problem-solving skills to identify innovative workflow efficiencies, and they implement technology solutions to enhance our systems, products and processesand all this while providing platinum customer support to our clients.The Role:Our Data Analysts are primarily responsible for providing timely, accurate, and comprehensive data to our clients. They use their technical, business, and communication skills to improve products and processes in Global Data, which makes the role challenging and entrepreneurial. Junior Data Analysts will leverage their growing skills and experience over time to become Data Analysts that plays a key role innovation across our business and subsequently have the opportunity to become a Senior Data Analyst/ Data Scientist.We'll trust you to:\\n\\n\\n\\n Utilize a variety of software solutions to extract and rationalize data to Bloomberg taxonomies\\n Perform quality control to ensure data accuracy by comparing Bloomberg data to source documentation\\n Provide customer support for users of Bloomberg products such as the Professional Service, News, Enterprise Solutions by resolving inquiries in a timely manner\\n Procure content to support best-in-class coverage of the data set\\n Implement business rules for programmatic data validation by codifying market conventions and/or data relationships\\n Contribute to continuous improvement by generating ideas to improve our data products and/or associated processes and building prototypes to validate and illustrate requirements\\n Participate in ad hoc projects to optimize processes and/or improve the quality of the data set\\n Utilize statistics and data visualization skills to report on results of on-going operations and projects, as required\\n\\nYou'll need to have:\\n\\n\\n\\n A bachelor's degree, preferably with combined studies in Information Systems and Finance, or related business and STEM field\\n Demonstrated project or work experience using one or more programming/ scripting languages (e.g. Python, R, JavaScript, Java)\\n Ability to recognize opportunities for process improvement, as well as devise and implement innovative solutions\\n Excellent written and verbal communication skills\\n Basic understanding of statistics and data modeling\\n Strong attention to detail and high degree of demonstrated decision-making and problem solving skills\\n Eagerness to learn and collaborate with others\\n Customer focused mindset\\n Ability to work under pressure and in a frequently changing environment\\n\\nWe'd love to see:\\n\\n\\n\\n Business fluency in English and Korean\\n Exposure to Bloomberg products such as the Professional Service\\n Passion for technology and finance\\n Proficiency with one or more programming/scripting languages (e.g. Python, R, JavaScript, Java) as well as SQL\\n Familiarity with software engineering best practices\\n Experience using data visualization tools such as Tableau or QlikSense\\n Openness to change and willingness to work through challenges\\n A presence in virtual development communities such as GitHub, Stack Overflow and HackerRank\\n Familiarity with statistical and machine learning methods\\n Desire to innovate and lead change\\n\\n\\nIf this sounds like you:Apply! If we think you're a good match we'll get in touch to let you know the next steps.\\n\\nWe are an equal opportunity employer and value diversity at our company. We do not discriminate on the basis of race, religion, color, national origin, gender, sexual orientation, age, marital status, veteran status, or disability status.\\n\\nBloomberg is a disability inclusive employer. Please let us know if you require any adjustments to be made for the recruitment process by emailing access2@bloomberg.net.\\n\\n\"]"
      ]
     },
     "execution_count": 18,
     "metadata": {},
     "output_type": "execute_result"
    }
   ],
   "source": [
    "job_desc"
   ]
  },
  {
   "cell_type": "code",
   "execution_count": 16,
   "metadata": {},
   "outputs": [
    {
     "name": "stdout",
     "output_type": "stream",
     "text": [
      "10\n",
      "7\n"
     ]
    },
    {
     "data": {
      "text/plain": [
       "[' Data Analytics & Visualization Analyst\\n\\nADW, oracle Analytic cloud\\n\\n Summary\\n\\nDesigns analytics for strategic use across the line of business. Design/Create reports and analytics that provide key business insights used for data driven decision making.\\n\\nPossesses a strong business insight coupled with technical ability to know how to develop, explore, analyze, and present data and solutions to a line of business audience.\\n\\n Responsibility\\n\\n Need a proactive, consultative approach to analytics. Asks the right questions of the pain point and makes proactive recommendations aligned to overall business strategy\\n Analyze data from multiple data sources and design and create reports\\n Communicates and presents analysis and insights to business customers and executive management.\\n Evaluates business needs and improves efficiencies and capabilities through the use of technology.\\n Need train personnel in scope and functionality of processes, systems, and solutions.\\n\\n Job Code :  IC2 ~ IC3\\n\\n Related Experience Period:  3 ~ 6 yrs.\\n\\n Knowledge, Skill & Abilities\\n\\n Basic understanding of fundamental data concepts (table joins, data deduplication, Boolean logic, if/then logic and machine learning\\n\\n\\n Has experiences with analytic programming, Data Management, SQL, data cleansing(Oracle, SAS and etc)\\n Has experiences with BI Tools(MSTR, Tableau, Oracle BI Tools and etc)\\n Has DW Project experiences\\n Ability to relate technical concepts and data analysis to a business audience\\n Strong communication skills\\n\\n Education\\n\\n통계학과 또는 관련 학과 출신\\n경영학과 , 마케팅 , 산업 공학과 출신\\n\\nDetailed Description and Job Requirements:\\n\\nProvides direction and specialist knowledge in applying the technology/application to client business. Facilitation of customer product/application understanding through presentations demonstrations and benchmarks; provision of support throughout the sell.\\n\\nAs a Staff Sales Consultant you will be responsible for providing presales technical / functional support to prospective clients and customers while ensuring customer satisfaction. Develop and deliver high quality standard Oracle presentations and demonstrations. Present and articulate Oracle product*s strengths, features, benefits, and competitive advantages. Design, validate, and present Oracle software solutions to include advanced product concepts, future direction, and 3rd party complimentary products.\\n\\nDuties and tasks are standard with some variation. Completes own role largely independently within defined policies and procedures.3 - 5 years business experience preferred; vendor experience also preferred. 3 years relevant computer applications or database/tools preferred. Demonstrated proficiency in one multi-user operating system. Knowledge of system and application design preferred. Strong written, verbal, and interpersonal skills. Ability to travel as needed. BA/BS degree or equivalent preferred.',\n",
       " ' Data Analytics & Visualization Analyst\\n\\nADW, oracle Analytic cloud\\n\\n Summary\\n\\nDesigns analytics for strategic use across the line of business. Design/Create reports and analytics that provide key business insights used for data driven decision making.\\n\\nPossesses a strong business insight coupled with technical ability to know how to develop, explore, analyze, and present data and solutions to a line of business audience.\\n\\n Responsibility\\n\\n Need a proactive, consultative approach to analytics. Asks the right questions of the pain point and makes proactive recommendations aligned to overall business strategy\\n Analyze data from multiple data sources and design and create reports\\n Communicates and presents analysis and insights to business customers and executive management.\\n Evaluates business needs and improves efficiencies and capabilities through the use of technology.\\n Need train personnel in scope and functionality of processes, systems, and solutions.\\n\\n Job Code :  IC2 ~ IC3\\n\\n Related Experience Period:  3 ~ 6 yrs.\\n\\n Knowledge, Skill & Abilities\\n\\n Basic understanding of fundamental data concepts (table joins, data deduplication, Boolean logic, if/then logic and machine learning\\n\\n\\n Has experiences with analytic programming, Data Management, SQL, data cleansing(Oracle, SAS and etc)\\n Has experiences with BI Tools(MSTR, Tableau, Oracle BI Tools and etc)\\n Has DW Project experiences\\n Ability to relate technical concepts and data analysis to a business audience\\n Strong communication skills\\n\\n Education\\n\\n통계학과 또는 관련 학과 출신\\n경영학과 , 마케팅 , 산업 공학과 출신\\n\\nDetailed Description and Job Requirements:\\n\\nProvides direction and specialist knowledge in applying the technology/application to client business. Facilitation of customer product/application understanding through presentations demonstrations and benchmarks; provision of support throughout the sell.\\n\\nAs a Staff Sales Consultant you will be responsible for providing presales technical / functional support to prospective clients and customers while ensuring customer satisfaction. Develop and deliver high quality standard Oracle presentations and demonstrations. Present and articulate Oracle product*s strengths, features, benefits, and competitive advantages. Design, validate, and present Oracle software solutions to include advanced product concepts, future direction, and 3rd party complimentary products.\\n\\nDuties and tasks are standard with some variation. Completes own role largely independently within defined policies and procedures.3 - 5 years business experience preferred; vendor experience also preferred. 3 years relevant computer applications or database/tools preferred. Demonstrated proficiency in one multi-user operating system. Knowledge of system and application design preferred. Strong written, verbal, and interpersonal skills. Ability to travel as needed. BA/BS degree or equivalent preferred.',\n",
       " 'Job Description:\\n\\nAbout Bank of America Merrill Lynch:\\n\\nOur purpose as a firm is to make financial lives better, through the power of every connection. Across the world, we partner with leading corporate and institutional investors through our offices in more than 40 countries. In the U.S alone, we serve almost all Fortune 500 companies and approximately 59 million consumers and small-business customers. We provide a full suite of financial products and services, from banking and investments to asset and risk management. We cover a broad range of asset classes, making us a global leader in corporate and investment banking, sales and trading.\\n\\nConnecting Asia Pacific to the World\\n\\nOur Asia Pacific team is spread across 23 offices in 12 markets. We are focused on connecting Asia to the world and the world to Asia, using our global expertise to ensure success is shared between us, our clients and our communities. Our regional footprint covers 12 currencies, more than a dozen languages and five time zones, placing us firmly among the region’s leading financial services companies.\\n\\nBank of America Merrill Lynch is committed to attracting, recruiting and retaining top diverse talent from across the globe. Our diversity and inclusion mission is to actively promote an inclusive work environment where all employees have the opportunity to achieve personal success and contribute to the growth of our business. Each of our global Employee Networks bring together employees, create dialogue and awareness in support of our Diversity and Inclusion.\\n\\nBank of America Merrill Lynch is an equal opportunities employer.\\n\\nPosition Description\\n\\nAs part of the larger Global Technology & Operations (GT&O) organization in Asia, the Non-Financial Regulatory Reporting team (APAC GTO NFRR) governs and manages operational risk (people, process, systems and external event risks) and controls across various Technology, Banking and Markets operations units in Asia Pacific.\\n\\nKey Responsibilities\\n\\nThe Non-Financial Regulatory Reporting (NFRR) Data Analyst will be a member of the APAC GTO NFRR team. Responsibilities include:Partner with front line units to manage and execute quality assurance (QA) test of their regulatory reports and controls environment utilizing NFRR specific processes, tools and templatesDocumenting the business logic, and designing test plans for regulatory reportsPartnering with India testing team to resolve issues arising from QA testing carried out by themWorking with report owners to create action plans to address gaps in a timely wayEnsuring that the regional governance model operates as designed including regional governance meetings with key stakeholders, the provision of metrics and reporting, follow up on issuesDeveloping and producing metrics and analytics on regulatory reporting issues and testing resultsProvide Regulatory Reporting Risk subject matter expertise for Technology & Operations areasExercise judgment and influence business leaders and peers to Firm / External requirements and operational risk programs, balancing business strategy with appropriate risk/reward balance and adequate controls and remediation.Develop and maintain relationships with Business, Operations, Technology, Audit, Compliance and other Control groups and Stakeholders\\n\\nKey Requirements\\n\\nExperience of regulatory reporting processes – ideally involving testing or quality assurance of regulatory reportsRelevant experience in banking, operations, business controls or risk management, internal audit or compliance testingUnderstanding of Banking & Markets products, services, and platformsExperience of analyzing and documenting business processes, and developing solutionsAttention to detailProven relationship management/engagement skills and ability to communicate effectively with different audiences; executive presenceStrong MS Office skills, particularly Excel, PowerPoint, and SharePointStrong communication skills and ability to build relationships at all levelsAbility to work within a team environment and to stick to deadlinesCritical thinking/analytical skills, challenge mindset\\n',\n",
       " 'Responsibilities:\\n\\n\\n\\nPartner with business stakeholders to define business questions to model and solve Work closely with data engineers to ensure ready access to \"clean\" data Perform classification, regression, time-series, and causal analysis on datasets Design, build, and deliver data models and/or data automation to transform raw data into actionable information \\n\\n\\nMinimum Qualifications:\\n\\n\\n\\n2+ years of experience in data analysis working with large data sets MUST HAVE strong SQL skills and Korean language fluency Excel, and fundamental understanding of statistics\\n\\nPreferred Qualifications:\\n\\n\\n\\nR (or Python) for data analysis English language proficiency\\n\\nPosition Type/Expected Hours of Work:This is a full-time position (Monday through Friday, 10:00 a.m. to 7 p.m)\\n\\nHiring process:Documents screening > 1st round Interview > 2nd round interview> Job offer\\n\\nRecruitment Period: On demand',\n",
       " \"\\n\\n\\n\\n\\nPosition Description\\n\\n\\n\\n\\n\\n\\n\\n\\nData Analyst\\n\\n\\nLocation\\n\\n\\n\\nSeoul, South Korea\\n\\n\\nJob Code\\n\\n357\\n\\n\\n# of openings\\n\\n1\\n\\n\\n\\nApply Now\\nOverview:\\n\\nBased in Northern, VA, Axiologic Solutions LLC has opportunities for you to become part of our high-quality team that delivers innovative solutions to key Federal clients.\\n\\nPosition is contingent based on awarded contract.\\n\\nResponsibilities: Data Analysts use technology to mine complex, voluminous, and different varieties of data from various sources and platforms in order to collect, analyze, and compile data to meet customer needs. Data Analysts will perform the following duties:\\n\\n\\nIdentify new sources of data and methods to improve data collection, analysis, and reporting\\nCollect customer requirements\\nDetermine technical issues\\nDesign algorithms and data manipulation capabilities using R, Python, C++, JavaScript, Go, and other known programming languages.\\nBuild data solutions, tools, and capabilities to enable self-service frameworks for data consumers to monitor and report on data.\\nImprove the quality of data use and usability by driving an understanding and adherence to the principles of data quality management including metadata, lineage, and business definitions\\nWork collaboratively with Intelligence and Data analysis teams to produce qualitative and quantitative data that support Intelligence products.\\n\\nQualifications:\\n\\nPossess a minimum of a bachelor's degree in a computer science discipline.\\nExperience providing services similar in required tasks, scope, and complexity.\\n\\nEqual Opportunity Employer–minorities/females/veterans/individuals with disabilities/sexual orientation/gender identity.\\n\\n\\nEqual Opportunity Employer–minorities/females/veterans/individuals with disabilities/sexual orientation/gender identity.\\n\\nApplicants with a physical or mental disability, who require a reasonable accommodation for any part of the application or hiring process, may e-mail their request to Jennifer.chavira@axiologicsolutions.com, call 571-758-3780, or visit our office at 8280 Willow Oaks Corp. Dr. Suite 450, Fairfax Virginia for assistance. Determinations on request for reasonable accommodation will be made on a case-by-case basis.\\n\\n\\n\\n\",\n",
       " '1. ABS - Support of\\n\\nAsset-Backed Securities (ABS) preparation project, using SQL\\n\\n\\nResponsible for data quality\\n\\n management\\nResponsible for historical data\\n\\n analysis for Rating\\n\\n Agencies and investors.\\nDraft technical Business Requirements\\n\\n Documentation related to system changes and review technical specification\\n\\n documents from vendors\\nDevelop test scenarios for system\\n\\n changes with each business team to ensure changes and maintain the\\n\\n integrity of the systems, reports and processes\\nCooperate with IT to setup ABS\\n\\n management system (ABS Suite)\\nClose alignment with each business\\n\\n team (Contract Operations,\\n\\n Collections, Accounting, Treasury, etc.) , Region Office and HQ during the\\n\\n project rollout\\nStrong knowledge of project management\\n\\n and associated implementation experience\\n\\n2. ABS (After issuance) - Responsible for the monthly timely execution and\\n\\naccuracy of the\\n\\nABS investor reporting\\n\\n\\nResponsible for the timely preparation and accuracy of ABS\\n\\n regulatory reporting\\nPerformance and trend analysis of the securitized assets\\nAlignment with relevant internal parties to initiate other ABS\\n\\n processes that are based on the results of the investor reporting\\n\\n (Accounting, Controlling, Treasury MBFSK & HQ)\\nResponsible for the monthly preparation and accuracy of ABS\\n\\n historical risk data with finance closing\\nSupport\\n\\n quantitative and qualitative Portfolio Analysis and ABS historical data\\n\\n trend analysis\\nPortfolio closing and report\\n\\n preparation with ad-hoc risk analysis for business strategy by combining\\n\\n database querying expertise with an in-depth knowledge of the systems to\\n\\n provide analytical results\\n\\nEducation\\n\\nUniversity degree in Computer Science/Information Technology/Finance/Statistics or equivalent\\n\\nExperience\\n\\nSolid cross-functional operative experience covering ideally IT and Finance functions in auto finance industry, Banking or other related finance industry for at least 3-5 years\\nABS investor report experience preferred\\n\\nSpecific knowledge\\n\\nAble to utilize SQL\\nKnowledge of Financial Analysis or Risk Management preferred\\nQuantitative and qualitative analytical skills with Excellent MS Office Skills (Excel and PowerPoint)\\nIdeally ETL ((extract, transform, load) related coding skills and experiences with SQL-based database systems (MS Access, SQL, etc.)\\nExperiences in test engineering\\nInterpersonal and communication skill\\nGood English skill both in writing and speaking\\nStrong commitment to certain deadlines and Attention to detail, accurate and analytical skills\\n',\n",
       " '1. ABS - Support of\\n\\nAsset-Backed Securities (ABS) preparation project, using SQL\\n\\n\\nResponsible for data quality\\n\\n management\\nResponsible for historical data\\n\\n analysis for Rating\\n\\n Agencies and investors.\\nDraft technical Business Requirements\\n\\n Documentation related to system changes and review technical specification\\n\\n documents from vendors\\nDevelop test scenarios for system\\n\\n changes with each business team to ensure changes and maintain the\\n\\n integrity of the systems, reports and processes\\nCooperate with IT to setup ABS\\n\\n management system (ABS Suite)\\nClose alignment with each business\\n\\n team (Contract Operations,\\n\\n Collections, Accounting, Treasury, etc.) , Region Office and HQ during the\\n\\n project rollout\\nStrong knowledge of project management\\n\\n and associated implementation experience\\n\\n2. ABS (After issuance) - Responsible for the monthly timely execution and\\n\\naccuracy of the\\n\\nABS investor reporting\\n\\n\\nResponsible for the timely preparation and accuracy of ABS\\n\\n regulatory reporting\\nPerformance and trend analysis of the securitized assets\\nAlignment with relevant internal parties to initiate other ABS\\n\\n processes that are based on the results of the investor reporting\\n\\n (Accounting, Controlling, Treasury MBFSK & HQ)\\nResponsible for the monthly preparation and accuracy of ABS\\n\\n historical risk data with finance closing\\nSupport\\n\\n quantitative and qualitative Portfolio Analysis and ABS historical data\\n\\n trend analysis\\nPortfolio closing and report\\n\\n preparation with ad-hoc risk analysis for business strategy by combining\\n\\n database querying expertise with an in-depth knowledge of the systems to\\n\\n provide analytical results\\n\\nEducation\\n\\nUniversity degree in Computer Science/Information Technology/Finance/Statistics or equivalent\\n\\nExperience\\n\\nSolid cross-functional operative experience covering ideally IT and Finance functions in auto finance industry, Banking or other related finance industry for at least 3-5 years\\nABS investor report experience preferred\\n\\nSpecific knowledge\\n\\nAble to utilize SQL\\nKnowledge of Financial Analysis or Risk Management preferred\\nQuantitative and qualitative analytical skills with Excellent MS Office Skills (Excel and PowerPoint)\\nIdeally ETL ((extract, transform, load) related coding skills and experiences with SQL-based database systems (MS Access, SQL, etc.)\\nExperiences in test engineering\\nInterpersonal and communication skill\\nGood English skill both in writing and speaking\\nStrong commitment to certain deadlines and Attention to detail, accurate and analytical skills\\n',\n",
       " \"Join us on our exciting journey! IQVIA™ is The Human Data Science Company™, focused on using data and science to help healthcare clients find better solutions for their patients. Formed through the merger of IMS Health and Quintiles, IQVIA offers a broad range of solutions that harness advances in healthcare information, technology, analytics and human ingenuity to drive healthcare forward.Principal Accountabilities:As a Data Analytics & Insights Associate Consultant with balanced analytics, technology, and consulting experience, you will provide data analytics expertise to IQVIA R&D Solutions' organizations and related external organizations to drive digital innovations. Embedded in the R&D Solutions’ key business processes, you will work with business stakeholders to identify and prioritize business problems to be addressed with data analytics. You will support design, development and delivery of data analytics solutions to address identified business problems, working with other ACOE team members, e.g. GSM (Global Solutions Manager) as needed. This is a hands-on role and the candidate must have the ability to interpret requests and provide insights to support the overall business needs.Specific activities include:• Embedded in the R&D Solutions’ key business processes, identify and prioritize business problems to be addressed with data analytics;• Support business partnership and empower data-driven decisions by working with structured and unstructured data sets, building analytics solutions and advising business stakeholders on data solutions development;• Contribute to data innovation task and the development and delivery of high value and differentiating analytic insights to enhance trial strategy and execution;• Leverage large volumes of complex internal and external data using a variety of technologies, including tools like Python, R, SQL, Spark, HDFS;• Integrate custom analytics (e.g. clustering, predictive, prescriptive) to support data-driven decision making using advanced computing tools;• Translate and communicate results, recommendations and opportunities to improve data solutions to internal and external leadership with easily consumable reports and presentations;• Stay updated on IQVIA offerings and newly acquired assets for developing R&D Solutions opportunities and identify new areas of growth, outside the scope of existing solutions, e.g. data exploration, data acquisition, visualization;• Proactively continue to strengthen subject matter expertise within business partnership;• Contribute to analytical methodology research, project execution, streamlining processes and efficiencies.Qualifications and capabilities:Our ideal candidate will have:• A Bachelor’s or Master’s degree in Statistics, Economics, Econometrics, and Computer Science or a related field – alternatively, a relevant combination of education, training and work experience;• At least two years of relevant quantitative experience analyzing data;• Experience working with large volumes of complex health / claims data;• Experience with R or Python (Python preferable);• Experience with Spark, SparkR, and PySpark within distributed environment is preferred;• Experience with SQL and/or Hive skills;• Ability to bridge the technical expertise of data engineers and data scientists with the operational expertise of business functions and business managers;• Ability to understand local / regional health sector and data;• Strong communication and presentation skills;• Local language skills, to an advanced level (spoken and written), with complete fluency in English.Desirable skills:• A good understanding of data modelling, visualization, e.g. Spotfire, Tableau, Power BI• A good understanding of data science, ML / AI with a sound foundation in statistics We know that meaningful results require not only the right approach but also the right people. Regardless of your role, we invite you to reimagine healthcare with us. You will have the opportunity to play an important part in helping our clients drive healthcare forward and ultimately improve human health outcomes. Whatever your career goals, we are here to ensure you get there! We invite you to join IQVIA™ Apply Now!\",\n",
       " \"\\nJob DescriptionYou are the type of person who has a passion for taking raw numbers and turning them into actionable insights for the world's business and financial decision makers. Your friends all know you as the one who has a true interest in technology, and who likes nothing more than spotting a creative way to improve a process. You have a natural eye for detail, and an interest in the financial markets. You are independent and determined, but thrive as part of a team. You enjoy dealing with people, and you're that person who knows what customer service really means.Our Team:Bloomberg runs on data, and our Global Data department is responsible for acquiring it and supplying it to our clients. Our Market Data Analysts collect, process and publish the data which is the backbone of our iconic Bloomberg Terminalthe data which ultimately moves the financial markets. They apply problem-solving skills to identify innovative workflow efficiencies, and they implement technology solutions to enhance our systems, products and processesand all this while providing platinum customer support to our clients.The Role:Our Data Analysts are primarily responsible for providing timely, accurate, and comprehensive data to our clients. They use their technical, business, and communication skills to improve products and processes in Global Data, which makes the role challenging and entrepreneurial. Junior Data Analysts will leverage their growing skills and experience over time to become Data Analysts that plays a key role innovation across our business and subsequently have the opportunity to become a Senior Data Analyst/ Data Scientist.We'll trust you to:\\n\\n\\n\\n Utilize a variety of software solutions to extract and rationalize data to Bloomberg taxonomies\\n Perform quality control to ensure data accuracy by comparing Bloomberg data to source documentation\\n Provide customer support for users of Bloomberg products such as the Professional Service, News, Enterprise Solutions by resolving inquiries in a timely manner\\n Procure content to support best-in-class coverage of the data set\\n Implement business rules for programmatic data validation by codifying market conventions and/or data relationships\\n Contribute to continuous improvement by generating ideas to improve our data products and/or associated processes and building prototypes to validate and illustrate requirements\\n Participate in ad hoc projects to optimize processes and/or improve the quality of the data set\\n Utilize statistics and data visualization skills to report on results of on-going operations and projects, as required\\n\\nYou'll need to have:\\n\\n\\n\\n A bachelor's degree, preferably with combined studies in Information Systems and Finance, or related business and STEM field\\n Demonstrated project or work experience using one or more programming/ scripting languages (e.g. Python, R, JavaScript, Java)\\n Ability to recognize opportunities for process improvement, as well as devise and implement innovative solutions\\n Excellent written and verbal communication skills\\n Basic understanding of statistics and data modeling\\n Strong attention to detail and high degree of demonstrated decision-making and problem solving skills\\n Eagerness to learn and collaborate with others\\n Customer focused mindset\\n Ability to work under pressure and in a frequently changing environment\\n\\nWe'd love to see:\\n\\n\\n\\n Business fluency in English and Korean\\n Exposure to Bloomberg products such as the Professional Service\\n Passion for technology and finance\\n Proficiency with one or more programming/scripting languages (e.g. Python, R, JavaScript, Java) as well as SQL\\n Familiarity with software engineering best practices\\n Experience using data visualization tools such as Tableau or QlikSense\\n Openness to change and willingness to work through challenges\\n A presence in virtual development communities such as GitHub, Stack Overflow and HackerRank\\n Familiarity with statistical and machine learning methods\\n Desire to innovate and lead change\\n\\n\\nIf this sounds like you:Apply! If we think you're a good match we'll get in touch to let you know the next steps.\\n\\nWe are an equal opportunity employer and value diversity at our company. We do not discriminate on the basis of race, religion, color, national origin, gender, sexual orientation, age, marital status, veteran status, or disability status.\\n\\nBloomberg is a disability inclusive employer. Please let us know if you require any adjustments to be made for the recruitment process by emailing access2@bloomberg.net.\\n\\n\",\n",
       " \"\\nJob DescriptionYou are the type of person who has a passion for taking raw numbers and turning them into actionable insights for the world's business and financial decision makers. Your friends all know you as the one who has a true interest in technology, and who likes nothing more than spotting a creative way to improve a process. You have a natural eye for detail, and an interest in the financial markets. You are independent and determined, but thrive as part of a team. You enjoy dealing with people, and you're that person who knows what customer service really means.Our Team:Bloomberg runs on data, and our Global Data department is responsible for acquiring it and supplying it to our clients. Our Market Data Analysts collect, process and publish the data which is the backbone of our iconic Bloomberg Terminalthe data which ultimately moves the financial markets. They apply problem-solving skills to identify innovative workflow efficiencies, and they implement technology solutions to enhance our systems, products and processesand all this while providing platinum customer support to our clients.The Role:Our Data Analysts are primarily responsible for providing timely, accurate, and comprehensive data to our clients. They use their technical, business, and communication skills to improve products and processes in Global Data, which makes the role challenging and entrepreneurial. Junior Data Analysts will leverage their growing skills and experience over time to become Data Analysts that plays a key role innovation across our business and subsequently have the opportunity to become a Senior Data Analyst/ Data Scientist.We'll trust you to:\\n\\n\\n\\n Utilize a variety of software solutions to extract and rationalize data to Bloomberg taxonomies\\n Perform quality control to ensure data accuracy by comparing Bloomberg data to source documentation\\n Provide customer support for users of Bloomberg products such as the Professional Service, News, Enterprise Solutions by resolving inquiries in a timely manner\\n Procure content to support best-in-class coverage of the data set\\n Implement business rules for programmatic data validation by codifying market conventions and/or data relationships\\n Contribute to continuous improvement by generating ideas to improve our data products and/or associated processes and building prototypes to validate and illustrate requirements\\n Participate in ad hoc projects to optimize processes and/or improve the quality of the data set\\n Utilize statistics and data visualization skills to report on results of on-going operations and projects, as required\\n\\nYou'll need to have:\\n\\n\\n\\n A bachelor's degree, preferably with combined studies in Information Systems and Finance, or related business and STEM field\\n Demonstrated project or work experience using one or more programming/ scripting languages (e.g. Python, R, JavaScript, Java)\\n Ability to recognize opportunities for process improvement, as well as devise and implement innovative solutions\\n Excellent written and verbal communication skills\\n Basic understanding of statistics and data modeling\\n Strong attention to detail and high degree of demonstrated decision-making and problem solving skills\\n Eagerness to learn and collaborate with others\\n Customer focused mindset\\n Ability to work under pressure and in a frequently changing environment\\n\\nWe'd love to see:\\n\\n\\n\\n Business fluency in English and Korean\\n Exposure to Bloomberg products such as the Professional Service\\n Passion for technology and finance\\n Proficiency with one or more programming/scripting languages (e.g. Python, R, JavaScript, Java) as well as SQL\\n Familiarity with software engineering best practices\\n Experience using data visualization tools such as Tableau or QlikSense\\n Openness to change and willingness to work through challenges\\n A presence in virtual development communities such as GitHub, Stack Overflow and HackerRank\\n Familiarity with statistical and machine learning methods\\n Desire to innovate and lead change\\n\\n\\nIf this sounds like you:Apply! If we think you're a good match we'll get in touch to let you know the next steps.\\n\\nWe are an equal opportunity employer and value diversity at our company. We do not discriminate on the basis of race, religion, color, national origin, gender, sexual orientation, age, marital status, veteran status, or disability status.\\n\\nBloomberg is a disability inclusive employer. Please let us know if you require any adjustments to be made for the recruitment process by emailing access2@bloomberg.net.\\n\\n\"]"
      ]
     },
     "execution_count": 16,
     "metadata": {},
     "output_type": "execute_result"
    }
   ],
   "source": [
    "# checking duplicate scrape\n",
    "# Total 30 jobs in each page.\n",
    "print(len(job_desc))\n",
    "print(len(set(job_desc)))\n",
    "job_desc\n",
    "# get list of it and turn it back to a list. \n",
    "# job_desc = set(job_desc)\n",
    "# job_desc = list(job_desc)"
   ]
  },
  {
   "cell_type": "code",
   "execution_count": null,
   "metadata": {
    "scrolled": true
   },
   "outputs": [],
   "source": [
    "# ------------- Text classification to classify technical skill words --------------\n",
    "# Some words are connected with / ex:\"sql/database\", so split them.\n",
    "for job in job_desc:\n",
    "    \", \".join(job.split('/'))\n",
    "job_desc = [\", \".join(job.split('/')) for job in job_desc]\n",
    "\n",
    "# each item is a list of tokenized job_descriptions\n",
    "tok = [nltk.word_tokenize(job.lower()) for job in job_desc]\n",
    "\n",
    "from nltk.corpus import stopwords\n",
    "stop = stopwords.words('english')\n",
    "def stopword_deleter(tokenized_job_desc):\n",
    "    \"\"\" ignore stop words, bullets, etc. And put it into one list \"\"\"\n",
    "    final_word_list = []\n",
    "    for lists in tokenized_job_desc:\n",
    "        for item in lists:\n",
    "    # --------------------------------- Use REGEX to exclude numbers ------------------\n",
    "            if len(item)>2 and (item not in stop) and (item.isalpha()):\n",
    "                # Some words have \\\\ at the end, remove them.           \n",
    "                final_word_list.append(item.replace(\"\\\\\",\"\"))\n",
    "    return final_word_list\n",
    "\n",
    "\n",
    "# ------------ Lematize\n",
    "cleaned_list = stopword_deleter(tok)\n",
    "from nltk.stem import WordNetLemmatizer\n",
    "lemmatizer = WordNetLemmatizer()\n",
    "lemmatized_list = [lemmatizer.lemmatize(word,pos=\"v\") for word in cleaned_list]"
   ]
  },
  {
   "cell_type": "code",
   "execution_count": null,
   "metadata": {},
   "outputs": [],
   "source": [
    "print(tok)"
   ]
  },
  {
   "cell_type": "code",
   "execution_count": null,
   "metadata": {},
   "outputs": [],
   "source": [
    "cleaned_list"
   ]
  },
  {
   "cell_type": "code",
   "execution_count": null,
   "metadata": {},
   "outputs": [],
   "source": [
    "# -------------Taking a look at POS tags -(NOT USED)\n",
    "pos_tag = nltk.pos_tag(lemmatized_list)\n",
    "pos_df = pd.DataFrame(pos_tag, columns=[\"Word\", \"POS\"])\n",
    "pos_sum = pos_df.groupby(\"POS\").count()\n",
    "pos_sum.sort_values([\"Word\"], ascending=False)\n",
    "\n",
    "filtered_pos_tag = []\n",
    "for tag in pos_tag:\n",
    "    if tag[1] ==\"NN\" or tag[1] == \"NNS\" or tag[1] ==\"NNP\" or tag[1] == \"NNPS\":\n",
    "        filtered_pos_tag.append(tag)"
   ]
  },
  {
   "cell_type": "code",
   "execution_count": null,
   "metadata": {
    "scrolled": true
   },
   "outputs": [],
   "source": [
    "# Find 100 most frequent words from all scraped job_description\n",
    "freq = nltk.FreqDist(lemmatized_list)\n",
    "most_freq_words = freq.most_common(100)\n",
    "most_freq_words"
   ]
  },
  {
   "cell_type": "code",
   "execution_count": null,
   "metadata": {},
   "outputs": [],
   "source": []
  },
  {
   "cell_type": "code",
   "execution_count": null,
   "metadata": {},
   "outputs": [],
   "source": [
    "df = pd.DataFrame(most_freq_words, columns=(\"Words\", \"Count\"))\n",
    "df.head()"
   ]
  },
  {
   "cell_type": "code",
   "execution_count": null,
   "metadata": {},
   "outputs": [],
   "source": [
    "from os import path\n",
    "from PIL import Image\n",
    "from wordcloud import WordCloud, STOPWORDS, ImageColorGenerator\n",
    "\n",
    "wordcloud = WordCloud(\n",
    "                          background_color='white',\n",
    "                          stopwords=stop,\n",
    "                          max_words=100,\n",
    "                          max_font_size=50, \n",
    "                          random_state=42\n",
    "                         ).generate(str(most_freq_words))\n",
    "print(wordcloud)\n",
    "fig = plt.figure(1)\n",
    "plt.imshow(wordcloud)\n",
    "plt.axis('off')\n",
    "plt.show()"
   ]
  },
  {
   "cell_type": "code",
   "execution_count": null,
   "metadata": {},
   "outputs": [],
   "source": [
    "from sklearn.feature_extraction.text import CountVectorizer\n",
    "\n",
    "def get_top_n_words(cleaned_corpus, n=100):\n",
    "    vec = CountVectorizer().fit(cleaned_corpus)\n",
    "    bag_of_words = vec.transform(cleaned_corpus)\n",
    "    sum_words = bag_of_words.sum(axis=0) \n",
    "    words_freq = [(word, sum_words[0, idx]) for word, idx in      \n",
    "                   vec.vocabulary_.items()]\n",
    "    words_freq =sorted(words_freq, key = lambda x: x[1], \n",
    "                       reverse=True)\n",
    "    return words_freq[:n]\n",
    "\n",
    "top_words = get_top_n_words(lemmatized_list, n=100)\n",
    "# top_df = pd.DataFrame(top_words)"
   ]
  },
  {
   "cell_type": "code",
   "execution_count": null,
   "metadata": {},
   "outputs": [],
   "source": [
    "top_words[:3]"
   ]
  },
  {
   "cell_type": "code",
   "execution_count": null,
   "metadata": {},
   "outputs": [],
   "source": [
    "my_list = [1,2,3]"
   ]
  },
  {
   "cell_type": "code",
   "execution_count": null,
   "metadata": {},
   "outputs": [],
   "source": [
    "new_dict = {}\n",
    "new_list = []\n",
    "for key,value in top_words:\n",
    "    new_dict[key] = value\n",
    "new_list.append(new_dict)\n",
    "print(new_list)"
   ]
  },
  {
   "cell_type": "code",
   "execution_count": null,
   "metadata": {},
   "outputs": [],
   "source": [
    "final = []\n",
    "final.append(new_list)\n",
    "final.append(my_list)\n",
    "print(final)"
   ]
  },
  {
   "cell_type": "code",
   "execution_count": null,
   "metadata": {},
   "outputs": [],
   "source": [
    "top_df.head()"
   ]
  },
  {
   "cell_type": "code",
   "execution_count": null,
   "metadata": {
    "scrolled": true
   },
   "outputs": [],
   "source": [
    "# For 2-grams\n",
    "def get_top_n2_words(corpus, n=None):\n",
    "    # Consider 2-grams grabbing top 2000 most occuring term\n",
    "    vec1 = CountVectorizer(ngram_range=(1,2),\n",
    "            max_features=2000).fit(corpus) \n",
    "    bag_of_words = vec1.transform(corpus) # Create sparce marix.\n",
    "    sum_words = bag_of_words.sum(axis=0)\n",
    "    print(sum_words[0])\n",
    "#     print(vec1.vocabulary_.items())\n",
    "    words_freq = [(word, sum_words[0, idx]) for word, idx in #Select 0 because dict_items has all tuples in a first list., (\"job\", 971) tuple is one item, then as idx increase it select next tuple and so on.\n",
    "                  vec1.vocabulary_.items()]\n",
    "    words_freq =sorted(words_freq, key = lambda x: x[1], reverse=True) #Sort by number. since (\"job\", 93). x[1] = 93. In descending order.\n",
    "    return words_freq[:n]\n",
    "top2_words = get_top_n2_words(lemmatized_list, n=100)\n",
    "top2_df = pd.DataFrame(top2_words)\n",
    "top2_df.columns=[\"Bi-gram\", \"Freq\"]\n"
   ]
  },
  {
   "cell_type": "code",
   "execution_count": null,
   "metadata": {},
   "outputs": [],
   "source": [
    "top2_df.head(15)"
   ]
  },
  {
   "cell_type": "code",
   "execution_count": null,
   "metadata": {},
   "outputs": [],
   "source": [
    "# Visualize\n",
    "top_words = get_top_n2_words(lemmatized_list, n=30)\n",
    "top_df = pd.DataFrame(top_words)\n",
    "top_df.columns=[\"Word\", \"Freq\"]\n",
    "sns.set(rc={'figure.figsize':(13,8)})\n",
    "g = sns.barplot(x=\"Word\", y=\"Freq\", data=top_df)\n",
    "g.set_title(\"1,2-gram words\")\n",
    "g.set_xticklabels(g.get_xticklabels(), rotation=45);"
   ]
  },
  {
   "cell_type": "code",
   "execution_count": null,
   "metadata": {},
   "outputs": [],
   "source": []
  }
 ],
 "metadata": {
  "kernelspec": {
   "display_name": "Python 3",
   "language": "python",
   "name": "python3"
  },
  "language_info": {
   "codemirror_mode": {
    "name": "ipython",
    "version": 3
   },
   "file_extension": ".py",
   "mimetype": "text/x-python",
   "name": "python",
   "nbconvert_exporter": "python",
   "pygments_lexer": "ipython3",
   "version": "3.7.1"
  }
 },
 "nbformat": 4,
 "nbformat_minor": 2
}
